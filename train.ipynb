{
 "cells": [
  {
   "cell_type": "markdown",
   "metadata": {
    "ExecuteTime": {
     "end_time": "2018-08-18T02:08:22.190704Z",
     "start_time": "2018-08-18T02:08:22.187714Z"
    }
   },
   "source": [
    "# AutoML Natural Languageのデモデータを利用したベンチマーク(自作モデル側)\n",
    "\n",
    "## 概要\n",
    "\n",
    "GCPのAutoML Natural Languageの性能を確認するために、AutoMLのデモデータを利用して自作モデルとの精度を比較します。\n",
    "以下は自作モデルのソースコードです。"
   ]
  },
  {
   "cell_type": "markdown",
   "metadata": {
    "ExecuteTime": {
     "end_time": "2018-08-18T02:08:39.632915Z",
     "start_time": "2018-08-18T02:08:39.629411Z"
    }
   },
   "source": [
    "## データのロード"
   ]
  },
  {
   "cell_type": "code",
   "execution_count": 1,
   "metadata": {
    "ExecuteTime": {
     "end_time": "2018-08-18T02:07:08.921607Z",
     "start_time": "2018-08-18T02:07:08.084065Z"
    },
    "scrolled": true
   },
   "outputs": [
    {
     "data": {
      "text/html": [
       "<div>\n",
       "<style>\n",
       "    .dataframe thead tr:only-child th {\n",
       "        text-align: right;\n",
       "    }\n",
       "\n",
       "    .dataframe thead th {\n",
       "        text-align: left;\n",
       "    }\n",
       "\n",
       "    .dataframe tbody tr th {\n",
       "        vertical-align: top;\n",
       "    }\n",
       "</style>\n",
       "<table border=\"1\" class=\"dataframe\">\n",
       "  <thead>\n",
       "    <tr style=\"text-align: right;\">\n",
       "      <th></th>\n",
       "      <th>0</th>\n",
       "      <th>1</th>\n",
       "    </tr>\n",
       "  </thead>\n",
       "  <tbody>\n",
       "    <tr>\n",
       "      <th>0</th>\n",
       "      <td>We had a serious talk with some friends of our...</td>\n",
       "      <td>bonding</td>\n",
       "    </tr>\n",
       "    <tr>\n",
       "      <th>1</th>\n",
       "      <td>I meditated last night.</td>\n",
       "      <td>leisure</td>\n",
       "    </tr>\n",
       "    <tr>\n",
       "      <th>2</th>\n",
       "      <td>My grandmother start to walk from the bed afte...</td>\n",
       "      <td>affection</td>\n",
       "    </tr>\n",
       "    <tr>\n",
       "      <th>3</th>\n",
       "      <td>I picked my daughter up from the airport and w...</td>\n",
       "      <td>bonding</td>\n",
       "    </tr>\n",
       "    <tr>\n",
       "      <th>4</th>\n",
       "      <td>when i received flowers from my best friend</td>\n",
       "      <td>bonding</td>\n",
       "    </tr>\n",
       "    <tr>\n",
       "      <th>5</th>\n",
       "      <td>I went shopping</td>\n",
       "      <td>leisure</td>\n",
       "    </tr>\n",
       "    <tr>\n",
       "      <th>6</th>\n",
       "      <td>The phone that I have ordered in a local onlin...</td>\n",
       "      <td>enjoy_the_moment</td>\n",
       "    </tr>\n",
       "    <tr>\n",
       "      <th>7</th>\n",
       "      <td>I bought a new TV</td>\n",
       "      <td>achievement</td>\n",
       "    </tr>\n",
       "    <tr>\n",
       "      <th>8</th>\n",
       "      <td>I slow cooked a chuck roast on my stove that c...</td>\n",
       "      <td>achievement</td>\n",
       "    </tr>\n",
       "    <tr>\n",
       "      <th>9</th>\n",
       "      <td>I lost 2 kgs of weight after a month long effo...</td>\n",
       "      <td>achievement</td>\n",
       "    </tr>\n",
       "    <tr>\n",
       "      <th>10</th>\n",
       "      <td>i finally learned to cook chicken</td>\n",
       "      <td>achievement</td>\n",
       "    </tr>\n",
       "    <tr>\n",
       "      <th>11</th>\n",
       "      <td>INDIA WON THE SERIES AGAINST AUSTRALIA MADE ME...</td>\n",
       "      <td>enjoy_the_moment</td>\n",
       "    </tr>\n",
       "    <tr>\n",
       "      <th>12</th>\n",
       "      <td>My son results is today its got very good he s...</td>\n",
       "      <td>affection</td>\n",
       "    </tr>\n",
       "    <tr>\n",
       "      <th>13</th>\n",
       "      <td>My family went to a wildlife park. It was so b...</td>\n",
       "      <td>affection</td>\n",
       "    </tr>\n",
       "    <tr>\n",
       "      <th>14</th>\n",
       "      <td>A made quite the progress on an old rusty work...</td>\n",
       "      <td>achievement</td>\n",
       "    </tr>\n",
       "    <tr>\n",
       "      <th>15</th>\n",
       "      <td>Getting all my errands done and completed.</td>\n",
       "      <td>achievement</td>\n",
       "    </tr>\n",
       "    <tr>\n",
       "      <th>16</th>\n",
       "      <td>I finally mastered how to make crispy tofu.</td>\n",
       "      <td>achievement</td>\n",
       "    </tr>\n",
       "    <tr>\n",
       "      <th>17</th>\n",
       "      <td>After 3 long weeks of deep snow covered ground...</td>\n",
       "      <td>nature</td>\n",
       "    </tr>\n",
       "    <tr>\n",
       "      <th>18</th>\n",
       "      <td>My husband says me 'I love u ' when i woke up ...</td>\n",
       "      <td>affection</td>\n",
       "    </tr>\n",
       "    <tr>\n",
       "      <th>19</th>\n",
       "      <td>I ate some peanut butter M&amp;Ms while watching J...</td>\n",
       "      <td>enjoy_the_moment</td>\n",
       "    </tr>\n",
       "    <tr>\n",
       "      <th>20</th>\n",
       "      <td>I was able to play my video game that I enjoy ...</td>\n",
       "      <td>leisure</td>\n",
       "    </tr>\n",
       "    <tr>\n",
       "      <th>21</th>\n",
       "      <td>I enjoyed play Soccer with my brother</td>\n",
       "      <td>affection</td>\n",
       "    </tr>\n",
       "    <tr>\n",
       "      <th>22</th>\n",
       "      <td>I went to lunch with my girlfriend and her family</td>\n",
       "      <td>affection</td>\n",
       "    </tr>\n",
       "    <tr>\n",
       "      <th>23</th>\n",
       "      <td>My wife told me that despite my having lost ov...</td>\n",
       "      <td>affection</td>\n",
       "    </tr>\n",
       "    <tr>\n",
       "      <th>24</th>\n",
       "      <td>I cooked food for my mother-in-law.  And she l...</td>\n",
       "      <td>affection</td>\n",
       "    </tr>\n",
       "    <tr>\n",
       "      <th>25</th>\n",
       "      <td>My mother-in-law offered me money so I could b...</td>\n",
       "      <td>affection</td>\n",
       "    </tr>\n",
       "    <tr>\n",
       "      <th>26</th>\n",
       "      <td>I finally decorated my son's room for his birt...</td>\n",
       "      <td>affection</td>\n",
       "    </tr>\n",
       "    <tr>\n",
       "      <th>27</th>\n",
       "      <td>I traveled with my family and went to a beauti...</td>\n",
       "      <td>affection</td>\n",
       "    </tr>\n",
       "    <tr>\n",
       "      <th>28</th>\n",
       "      <td>The weather is very sultry in our place, our A...</td>\n",
       "      <td>nature</td>\n",
       "    </tr>\n",
       "    <tr>\n",
       "      <th>29</th>\n",
       "      <td>I celebrated my 7th wedding anniversary with m...</td>\n",
       "      <td>affection</td>\n",
       "    </tr>\n",
       "    <tr>\n",
       "      <th>...</th>\n",
       "      <td>...</td>\n",
       "      <td>...</td>\n",
       "    </tr>\n",
       "    <tr>\n",
       "      <th>12667</th>\n",
       "      <td>One event that made me feel happy last night w...</td>\n",
       "      <td>affection</td>\n",
       "    </tr>\n",
       "    <tr>\n",
       "      <th>12668</th>\n",
       "      <td>While cleaning and organizing my kitchen, I no...</td>\n",
       "      <td>bonding</td>\n",
       "    </tr>\n",
       "    <tr>\n",
       "      <th>12669</th>\n",
       "      <td>I was supposed to send a payment to someone wh...</td>\n",
       "      <td>achievement</td>\n",
       "    </tr>\n",
       "    <tr>\n",
       "      <th>12670</th>\n",
       "      <td>I went for a cycle and set a new personal reco...</td>\n",
       "      <td>exercise</td>\n",
       "    </tr>\n",
       "    <tr>\n",
       "      <th>12671</th>\n",
       "      <td>Purchasing and playing a new video game.</td>\n",
       "      <td>leisure</td>\n",
       "    </tr>\n",
       "    <tr>\n",
       "      <th>12672</th>\n",
       "      <td>I took a half day at work and was able to spen...</td>\n",
       "      <td>affection</td>\n",
       "    </tr>\n",
       "    <tr>\n",
       "      <th>12673</th>\n",
       "      <td>I went running.</td>\n",
       "      <td>exercise</td>\n",
       "    </tr>\n",
       "    <tr>\n",
       "      <th>12674</th>\n",
       "      <td>I saw a romantic comedy.</td>\n",
       "      <td>leisure</td>\n",
       "    </tr>\n",
       "    <tr>\n",
       "      <th>12675</th>\n",
       "      <td>I was happy tonight coming home and seeing my ...</td>\n",
       "      <td>affection</td>\n",
       "    </tr>\n",
       "    <tr>\n",
       "      <th>12676</th>\n",
       "      <td>My first child got full marks (100/100) in his...</td>\n",
       "      <td>achievement</td>\n",
       "    </tr>\n",
       "    <tr>\n",
       "      <th>12677</th>\n",
       "      <td>I joined The game of throw I won medal for thi...</td>\n",
       "      <td>achievement</td>\n",
       "    </tr>\n",
       "    <tr>\n",
       "      <th>12678</th>\n",
       "      <td>I found a little extra money in one of my onli...</td>\n",
       "      <td>achievement</td>\n",
       "    </tr>\n",
       "    <tr>\n",
       "      <th>12679</th>\n",
       "      <td>I was able to spend the day yesterday at home ...</td>\n",
       "      <td>achievement</td>\n",
       "    </tr>\n",
       "    <tr>\n",
       "      <th>12680</th>\n",
       "      <td>After diner I had a nice family walk with my c...</td>\n",
       "      <td>affection</td>\n",
       "    </tr>\n",
       "    <tr>\n",
       "      <th>12681</th>\n",
       "      <td>I came home to awesome roommates with great co...</td>\n",
       "      <td>bonding</td>\n",
       "    </tr>\n",
       "    <tr>\n",
       "      <th>12682</th>\n",
       "      <td>My smart phone was giving problems due to viru...</td>\n",
       "      <td>achievement</td>\n",
       "    </tr>\n",
       "    <tr>\n",
       "      <th>12683</th>\n",
       "      <td>I ate some delicious eggrolls that my mom made.</td>\n",
       "      <td>affection</td>\n",
       "    </tr>\n",
       "    <tr>\n",
       "      <th>12684</th>\n",
       "      <td>My best out of town friend called to announce ...</td>\n",
       "      <td>bonding</td>\n",
       "    </tr>\n",
       "    <tr>\n",
       "      <th>12685</th>\n",
       "      <td>I was able to buy a really fun video game on s...</td>\n",
       "      <td>leisure</td>\n",
       "    </tr>\n",
       "    <tr>\n",
       "      <th>12686</th>\n",
       "      <td>I made my goal at work.</td>\n",
       "      <td>achievement</td>\n",
       "    </tr>\n",
       "    <tr>\n",
       "      <th>12687</th>\n",
       "      <td>I was able to fix a small dent in my car mysel...</td>\n",
       "      <td>achievement</td>\n",
       "    </tr>\n",
       "    <tr>\n",
       "      <th>12688</th>\n",
       "      <td>Today is my wife's birthday.</td>\n",
       "      <td>affection</td>\n",
       "    </tr>\n",
       "    <tr>\n",
       "      <th>12689</th>\n",
       "      <td>Getting my lab results back, which indicated I...</td>\n",
       "      <td>enjoy_the_moment</td>\n",
       "    </tr>\n",
       "    <tr>\n",
       "      <th>12690</th>\n",
       "      <td>I made our new house that we just bought look ...</td>\n",
       "      <td>achievement</td>\n",
       "    </tr>\n",
       "    <tr>\n",
       "      <th>12691</th>\n",
       "      <td>I received my salary that it is too little but...</td>\n",
       "      <td>enjoy_the_moment</td>\n",
       "    </tr>\n",
       "    <tr>\n",
       "      <th>12692</th>\n",
       "      <td>This morning, I took a nice warm shower.</td>\n",
       "      <td>leisure</td>\n",
       "    </tr>\n",
       "    <tr>\n",
       "      <th>12693</th>\n",
       "      <td>learning how to better hunt for hits on amazon...</td>\n",
       "      <td>achievement</td>\n",
       "    </tr>\n",
       "    <tr>\n",
       "      <th>12694</th>\n",
       "      <td>I woke up in the middle of the night and reali...</td>\n",
       "      <td>enjoy_the_moment</td>\n",
       "    </tr>\n",
       "    <tr>\n",
       "      <th>12695</th>\n",
       "      <td>Yesterday my relations came to my house. That ...</td>\n",
       "      <td>affection</td>\n",
       "    </tr>\n",
       "    <tr>\n",
       "      <th>12696</th>\n",
       "      <td>Cuddling with my girlfriend last night.</td>\n",
       "      <td>affection</td>\n",
       "    </tr>\n",
       "  </tbody>\n",
       "</table>\n",
       "<p>12697 rows × 2 columns</p>\n",
       "</div>"
      ],
      "text/plain": [
       "                                                       0                 1\n",
       "0      We had a serious talk with some friends of our...           bonding\n",
       "1                                I meditated last night.           leisure\n",
       "2      My grandmother start to walk from the bed afte...         affection\n",
       "3      I picked my daughter up from the airport and w...           bonding\n",
       "4            when i received flowers from my best friend           bonding\n",
       "5                                        I went shopping           leisure\n",
       "6      The phone that I have ordered in a local onlin...  enjoy_the_moment\n",
       "7                                      I bought a new TV       achievement\n",
       "8      I slow cooked a chuck roast on my stove that c...       achievement\n",
       "9      I lost 2 kgs of weight after a month long effo...       achievement\n",
       "10                     i finally learned to cook chicken       achievement\n",
       "11     INDIA WON THE SERIES AGAINST AUSTRALIA MADE ME...  enjoy_the_moment\n",
       "12     My son results is today its got very good he s...         affection\n",
       "13     My family went to a wildlife park. It was so b...         affection\n",
       "14     A made quite the progress on an old rusty work...       achievement\n",
       "15            Getting all my errands done and completed.       achievement\n",
       "16           I finally mastered how to make crispy tofu.       achievement\n",
       "17     After 3 long weeks of deep snow covered ground...            nature\n",
       "18     My husband says me 'I love u ' when i woke up ...         affection\n",
       "19     I ate some peanut butter M&Ms while watching J...  enjoy_the_moment\n",
       "20     I was able to play my video game that I enjoy ...           leisure\n",
       "21                 I enjoyed play Soccer with my brother         affection\n",
       "22     I went to lunch with my girlfriend and her family         affection\n",
       "23     My wife told me that despite my having lost ov...         affection\n",
       "24     I cooked food for my mother-in-law.  And she l...         affection\n",
       "25     My mother-in-law offered me money so I could b...         affection\n",
       "26     I finally decorated my son's room for his birt...         affection\n",
       "27     I traveled with my family and went to a beauti...         affection\n",
       "28     The weather is very sultry in our place, our A...            nature\n",
       "29     I celebrated my 7th wedding anniversary with m...         affection\n",
       "...                                                  ...               ...\n",
       "12667  One event that made me feel happy last night w...         affection\n",
       "12668  While cleaning and organizing my kitchen, I no...           bonding\n",
       "12669  I was supposed to send a payment to someone wh...       achievement\n",
       "12670  I went for a cycle and set a new personal reco...          exercise\n",
       "12671           Purchasing and playing a new video game.           leisure\n",
       "12672  I took a half day at work and was able to spen...         affection\n",
       "12673                                    I went running.          exercise\n",
       "12674                           I saw a romantic comedy.           leisure\n",
       "12675  I was happy tonight coming home and seeing my ...         affection\n",
       "12676  My first child got full marks (100/100) in his...       achievement\n",
       "12677  I joined The game of throw I won medal for thi...       achievement\n",
       "12678  I found a little extra money in one of my onli...       achievement\n",
       "12679  I was able to spend the day yesterday at home ...       achievement\n",
       "12680  After diner I had a nice family walk with my c...         affection\n",
       "12681  I came home to awesome roommates with great co...           bonding\n",
       "12682  My smart phone was giving problems due to viru...       achievement\n",
       "12683    I ate some delicious eggrolls that my mom made.         affection\n",
       "12684  My best out of town friend called to announce ...           bonding\n",
       "12685  I was able to buy a really fun video game on s...           leisure\n",
       "12686                            I made my goal at work.       achievement\n",
       "12687  I was able to fix a small dent in my car mysel...       achievement\n",
       "12688                       Today is my wife's birthday.         affection\n",
       "12689  Getting my lab results back, which indicated I...  enjoy_the_moment\n",
       "12690  I made our new house that we just bought look ...       achievement\n",
       "12691  I received my salary that it is too little but...  enjoy_the_moment\n",
       "12692           This morning, I took a nice warm shower.           leisure\n",
       "12693  learning how to better hunt for hits on amazon...       achievement\n",
       "12694  I woke up in the middle of the night and reali...  enjoy_the_moment\n",
       "12695  Yesterday my relations came to my house. That ...         affection\n",
       "12696            Cuddling with my girlfriend last night.         affection\n",
       "\n",
       "[12697 rows x 2 columns]"
      ]
     },
     "execution_count": 1,
     "metadata": {},
     "output_type": "execute_result"
    }
   ],
   "source": [
    "import pandas as pd\n",
    "import glob\n",
    "import os\n",
    "import numpy as np\n",
    "\n",
    "data_filename = os.path.join('data', 'happiness.csv')\n",
    "data_df = pd.read_csv(data_filename, header=None)\n",
    "\n",
    "data_df"
   ]
  },
  {
   "cell_type": "markdown",
   "metadata": {},
   "source": [
    "## ラベルのベクトル化"
   ]
  },
  {
   "cell_type": "code",
   "execution_count": 2,
   "metadata": {
    "ExecuteTime": {
     "end_time": "2018-08-18T02:07:13.116321Z",
     "start_time": "2018-08-18T02:07:08.923609Z"
    }
   },
   "outputs": [
    {
     "name": "stderr",
     "output_type": "stream",
     "text": [
      "C:\\ProgramData\\Anaconda3\\lib\\site-packages\\h5py\\__init__.py:34: FutureWarning: Conversion of the second argument of issubdtype from `float` to `np.floating` is deprecated. In future, it will be treated as `np.float64 == np.dtype(float).type`.\n",
      "  from ._conv import register_converters as _register_converters\n",
      "Using TensorFlow backend.\n"
     ]
    },
    {
     "name": "stdout",
     "output_type": "stream",
     "text": [
      "(12697, 7)\n"
     ]
    }
   ],
   "source": [
    "from keras import utils\n",
    "\n",
    "printable_labels = data_df[1].values\n",
    "unique_labels = data_df[1].unique()\n",
    "unique_labels = {v: k for k, v in enumerate(unique_labels)}\n",
    "printable_features = data_df[0].values\n",
    "\n",
    "class_count = len(unique_labels)\n",
    "\n",
    "labels = []\n",
    "for i, label in enumerate(printable_labels):\n",
    "    labels.append(unique_labels[label])\n",
    "\n",
    "labels = utils.np_utils.to_categorical(labels, num_classes=class_count)\n",
    "\n",
    "print(labels.shape)"
   ]
  },
  {
   "cell_type": "markdown",
   "metadata": {},
   "source": [
    "## Word2Vecのロード\n",
    "\n",
    "学習済みモデルとして[word2vec-slim](https://github.com/eyaler/word2vec-slim)を利用します。"
   ]
  },
  {
   "cell_type": "code",
   "execution_count": 3,
   "metadata": {
    "ExecuteTime": {
     "end_time": "2018-08-18T02:07:17.570368Z",
     "start_time": "2018-08-18T02:07:13.118323Z"
    }
   },
   "outputs": [
    {
     "name": "stderr",
     "output_type": "stream",
     "text": [
      "C:\\ProgramData\\Anaconda3\\lib\\site-packages\\gensim\\utils.py:1197: UserWarning: detected Windows; aliasing chunkize to chunkize_serial\n",
      "  warnings.warn(\"detected Windows; aliasing chunkize to chunkize_serial\")\n",
      "C:\\ProgramData\\Anaconda3\\lib\\site-packages\\ipykernel_launcher.py:7: DeprecationWarning: Call to deprecated `wv` (Attribute will be removed in 4.0.0, use self instead).\n",
      "  import sys\n"
     ]
    }
   ],
   "source": [
    "import numpy as np\n",
    "import os\n",
    "from gensim.models import KeyedVectors\n",
    "\n",
    "word2vec_model_path = os.path.join('models', 'GoogleNews-vectors-negative300-SLIM.bin')\n",
    "word2vec = KeyedVectors.load_word2vec_format(word2vec_model_path, binary=True)\n",
    "word2vec_origin = word2vec.wv.index2word\n",
    "\n",
    "index2word = { i: c for i, c in enumerate(word2vec_origin) }\n",
    "word2index = { c: i for i, c in enumerate(word2vec_origin) }"
   ]
  },
  {
   "cell_type": "markdown",
   "metadata": {},
   "source": [
    "## 文書毎の単語の最大数計算"
   ]
  },
  {
   "cell_type": "code",
   "execution_count": 7,
   "metadata": {
    "ExecuteTime": {
     "end_time": "2018-08-18T02:09:27.026129Z",
     "start_time": "2018-08-18T02:09:26.792838Z"
    }
   },
   "outputs": [
    {
     "name": "stdout",
     "output_type": "stream",
     "text": [
      "762\n"
     ]
    }
   ],
   "source": [
    "from keras.preprocessing.text import text_to_word_sequence\n",
    "\n",
    "max_len = 0\n",
    "for i, sentence in enumerate(printable_features):\n",
    "    for t, word in enumerate(text_to_word_sequence(sentence)):\n",
    "        max_len = max(max_len, t + 1)\n",
    "\n",
    "print(max_len)"
   ]
  },
  {
   "cell_type": "markdown",
   "metadata": {},
   "source": [
    "## 特徴量のベクトル化"
   ]
  },
  {
   "cell_type": "code",
   "execution_count": 8,
   "metadata": {
    "ExecuteTime": {
     "end_time": "2018-08-18T02:09:29.649888Z",
     "start_time": "2018-08-18T02:09:29.400078Z"
    }
   },
   "outputs": [
    {
     "name": "stdout",
     "output_type": "stream",
     "text": [
      "(12697, 762)\n"
     ]
    }
   ],
   "source": [
    "from keras.preprocessing.text import Tokenizer, text_to_word_sequence\n",
    "from keras.preprocessing import sequence\n",
    "\n",
    "features = np.zeros((len(printable_features), max_len), dtype=np.int32)\n",
    "for i, sentence in enumerate(printable_features):\n",
    "    for t, word in enumerate(text_to_word_sequence(sentence)):\n",
    "        try:\n",
    "            features[i, t] = word2index[word.lower()]\n",
    "        except:\n",
    "            features[i, t] = 0\n",
    "            #logging.warn(f'{word} is skipped.')\n",
    "            continue\n",
    "\n",
    "print(features.shape)"
   ]
  },
  {
   "cell_type": "markdown",
   "metadata": {},
   "source": [
    "## 学習データとテストデータの分離"
   ]
  },
  {
   "cell_type": "code",
   "execution_count": 9,
   "metadata": {
    "ExecuteTime": {
     "end_time": "2018-08-18T02:09:37.702903Z",
     "start_time": "2018-08-18T02:09:37.564732Z"
    }
   },
   "outputs": [
    {
     "name": "stdout",
     "output_type": "stream",
     "text": [
      "(8887, 762)\n",
      "(8887, 7)\n",
      "(3810, 762)\n",
      "(3810, 7)\n"
     ]
    }
   ],
   "source": [
    "from sklearn.model_selection import train_test_split\n",
    "\n",
    "tmp_data = train_test_split(features, labels, train_size = 0.7, test_size = 0.3)\n",
    "train_features, valid_features, train_labels, valid_labels = map(lambda vec: np.asarray(vec), tmp_data)\n",
    "\n",
    "print(train_features.shape)\n",
    "print(train_labels.shape)\n",
    "print(valid_features.shape)\n",
    "print(valid_labels.shape)"
   ]
  },
  {
   "cell_type": "markdown",
   "metadata": {},
   "source": [
    "## モデル構造の作成"
   ]
  },
  {
   "cell_type": "code",
   "execution_count": 10,
   "metadata": {
    "ExecuteTime": {
     "end_time": "2018-08-18T02:09:42.902458Z",
     "start_time": "2018-08-18T02:09:40.448315Z"
    },
    "scrolled": true
   },
   "outputs": [
    {
     "name": "stderr",
     "output_type": "stream",
     "text": [
      "C:\\ProgramData\\Anaconda3\\lib\\site-packages\\ipykernel_launcher.py:13: DeprecationWarning: Call to deprecated `wv` (Attribute will be removed in 4.0.0, use self instead).\n",
      "  del sys.path[0]\n"
     ]
    },
    {
     "name": "stdout",
     "output_type": "stream",
     "text": [
      "_________________________________________________________________\n",
      "Layer (type)                 Output Shape              Param #   \n",
      "=================================================================\n",
      "input_1 (InputLayer)         (None, 762)               0         \n",
      "_________________________________________________________________\n",
      "embedding_1 (Embedding)      (None, 762, 300)          89870100  \n",
      "_________________________________________________________________\n",
      "bidirectional_1 (Bidirection (None, 512)               855552    \n",
      "_________________________________________________________________\n",
      "dense_1 (Dense)              (None, 7)                 3591      \n",
      "=================================================================\n",
      "Total params: 90,729,243\n",
      "Trainable params: 859,143\n",
      "Non-trainable params: 89,870,100\n",
      "_________________________________________________________________\n"
     ]
    }
   ],
   "source": [
    "from keras.models import Sequential\n",
    "from keras.layers.core import Activation\n",
    "from keras.layers import Dense, Dropout, GRU\n",
    "from keras.layers.wrappers import Bidirectional\n",
    "from keras.optimizers import RMSprop\n",
    "from keras.callbacks import LambdaCallback, EarlyStopping, ModelCheckpoint, TensorBoard\n",
    "from keras import layers\n",
    "from keras.layers.normalization import BatchNormalization\n",
    "from keras import Input, Model\n",
    "import datetime\n",
    "\n",
    "input_tensor = Input(train_features[0].shape)\n",
    "common_input = word2vec.wv.get_keras_embedding(train_embeddings=False)(input_tensor)\n",
    "\n",
    "x1 = Bidirectional(GRU(256))(common_input)\n",
    "\n",
    "output_tensor = Dense(class_count, activation='softmax')(x1)\n",
    "\n",
    "model = Model(input_tensor, output_tensor)\n",
    "model.compile(loss='categorical_crossentropy', optimizer='rmsprop', metrics=['mae'])\n",
    "model.summary()"
   ]
  },
  {
   "cell_type": "markdown",
   "metadata": {},
   "source": [
    "## 学習の実行"
   ]
  },
  {
   "cell_type": "code",
   "execution_count": 14,
   "metadata": {
    "ExecuteTime": {
     "end_time": "2018-08-18T02:40:32.466479Z",
     "start_time": "2018-08-18T02:24:54.415551Z"
    },
    "scrolled": true
   },
   "outputs": [
    {
     "name": "stdout",
     "output_type": "stream",
     "text": [
      "Train on 7998 samples, validate on 889 samples\n",
      "Epoch 1/100\n",
      "7998/7998 [==============================] - 63s 8ms/step - loss: 0.4717 - mean_absolute_error: 0.0692 - val_loss: 0.5094 - val_mean_absolute_error: 0.0731\n",
      "Epoch 2/100\n",
      "7998/7998 [==============================] - 63s 8ms/step - loss: 0.4632 - mean_absolute_error: 0.0685 - val_loss: 0.4927 - val_mean_absolute_error: 0.0678\n",
      "Epoch 3/100\n",
      "7998/7998 [==============================] - 60s 7ms/step - loss: 0.4435 - mean_absolute_error: 0.0655 - val_loss: 0.4881 - val_mean_absolute_error: 0.0690\n",
      "Epoch 4/100\n",
      "7998/7998 [==============================] - 58s 7ms/step - loss: 0.4259 - mean_absolute_error: 0.0639 - val_loss: 0.4754 - val_mean_absolute_error: 0.0668\n",
      "Epoch 5/100\n",
      "7998/7998 [==============================] - 59s 7ms/step - loss: 0.4136 - mean_absolute_error: 0.0622 - val_loss: 0.5491 - val_mean_absolute_error: 0.0675\n",
      "Epoch 6/100\n",
      "7998/7998 [==============================] - 59s 7ms/step - loss: 0.4035 - mean_absolute_error: 0.0610 - val_loss: 0.4994 - val_mean_absolute_error: 0.0684\n",
      "Epoch 7/100\n",
      "7998/7998 [==============================] - 58s 7ms/step - loss: 0.3857 - mean_absolute_error: 0.0584 - val_loss: 0.7140 - val_mean_absolute_error: 0.0769\n",
      "Epoch 8/100\n",
      "7998/7998 [==============================] - 64s 8ms/step - loss: 0.3757 - mean_absolute_error: 0.0573 - val_loss: 0.4732 - val_mean_absolute_error: 0.0655\n",
      "Epoch 9/100\n",
      "7998/7998 [==============================] - 60s 7ms/step - loss: 0.3701 - mean_absolute_error: 0.0565 - val_loss: 0.4788 - val_mean_absolute_error: 0.0643\n",
      "Epoch 10/100\n",
      "7998/7998 [==============================] - 61s 8ms/step - loss: 0.3549 - mean_absolute_error: 0.0548 - val_loss: 0.4577 - val_mean_absolute_error: 0.0598\n",
      "Epoch 11/100\n",
      "7998/7998 [==============================] - 60s 7ms/step - loss: 0.3421 - mean_absolute_error: 0.0530 - val_loss: 0.4942 - val_mean_absolute_error: 0.0623\n",
      "Epoch 12/100\n",
      "7998/7998 [==============================] - 60s 7ms/step - loss: 0.3287 - mean_absolute_error: 0.0510 - val_loss: 0.5172 - val_mean_absolute_error: 0.0625\n",
      "Epoch 13/100\n",
      "7998/7998 [==============================] - 64s 8ms/step - loss: 0.3137 - mean_absolute_error: 0.0488 - val_loss: 0.4978 - val_mean_absolute_error: 0.0640\n",
      "Epoch 14/100\n",
      "7998/7998 [==============================] - 61s 8ms/step - loss: 0.3046 - mean_absolute_error: 0.0482 - val_loss: 0.5512 - val_mean_absolute_error: 0.0644\n",
      "Epoch 15/100\n",
      "7998/7998 [==============================] - 60s 8ms/step - loss: 0.2886 - mean_absolute_error: 0.0455 - val_loss: 0.5327 - val_mean_absolute_error: 0.0646\n"
     ]
    },
    {
     "data": {
      "text/plain": [
       "<keras.callbacks.History at 0x23218a6cb00>"
      ]
     },
     "execution_count": 14,
     "metadata": {},
     "output_type": "execute_result"
    }
   ],
   "source": [
    "datestr = datetime.datetime.now().strftime('%Y%m%d')\n",
    "\n",
    "model_path = os.path.join('models', f'automl_test_model_{datestr}.h5')\n",
    "\n",
    "model.fit(train_features,\n",
    "          train_labels,\n",
    "          epochs = 100,\n",
    "          batch_size = 256,\n",
    "          validation_split = 0.1,\n",
    "          callbacks = [\n",
    "              TensorBoard(log_dir = 'tflog'),\n",
    "              EarlyStopping(patience=5, monitor='val_mean_absolute_error'),\n",
    "              ModelCheckpoint(model_path, monitor='val_mean_absolute_error', save_best_only=True)\n",
    "          ])"
   ]
  },
  {
   "cell_type": "markdown",
   "metadata": {},
   "source": [
    "## テストデータによる検証"
   ]
  },
  {
   "cell_type": "code",
   "execution_count": 15,
   "metadata": {
    "ExecuteTime": {
     "end_time": "2018-08-18T02:41:59.717676Z",
     "start_time": "2018-08-18T02:41:20.733092Z"
    },
    "collapsed": true
   },
   "outputs": [],
   "source": [
    "predicted_valid_labels = model.predict(valid_features).argmax(axis=1)\n",
    "numeric_valid_labels = valid_labels.argmax(axis=1)"
   ]
  },
  {
   "cell_type": "markdown",
   "metadata": {},
   "source": [
    "## クラシフィケーションレポートの表示"
   ]
  },
  {
   "cell_type": "code",
   "execution_count": 16,
   "metadata": {
    "ExecuteTime": {
     "end_time": "2018-08-18T02:42:02.044020Z",
     "start_time": "2018-08-18T02:42:02.037527Z"
    }
   },
   "outputs": [
    {
     "name": "stdout",
     "output_type": "stream",
     "text": [
      "                  precision    recall  f1-score   support\n",
      "\n",
      "         bonding       0.72      0.91      0.80       506\n",
      "         leisure       0.74      0.56      0.64       298\n",
      "       affection       0.92      0.90      0.91      1277\n",
      "enjoy_the_moment       0.57      0.55      0.56       408\n",
      "     achievement       0.84      0.85      0.85      1187\n",
      "          nature       0.91      0.53      0.67        73\n",
      "        exercise       0.73      0.84      0.78        61\n",
      "\n",
      "     avg / total       0.82      0.81      0.81      3810\n",
      "\n"
     ]
    }
   ],
   "source": [
    "from sklearn.metrics import classification_report, confusion_matrix\n",
    "\n",
    "print(classification_report(numeric_valid_labels, predicted_valid_labels, target_names=unique_labels))"
   ]
  }
 ],
 "metadata": {
  "kernelspec": {
   "display_name": "Python 3",
   "language": "python",
   "name": "python3"
  },
  "language_info": {
   "codemirror_mode": {
    "name": "ipython",
    "version": 3
   },
   "file_extension": ".py",
   "mimetype": "text/x-python",
   "name": "python",
   "nbconvert_exporter": "python",
   "pygments_lexer": "ipython3",
   "version": "3.6.2"
  }
 },
 "nbformat": 4,
 "nbformat_minor": 2
}
